{
 "cells": [
  {
   "cell_type": "markdown",
   "metadata": {},
   "source": [
    "# Classification of dog breeds"
   ]
  },
  {
   "cell_type": "code",
   "execution_count": 100,
   "metadata": {},
   "outputs": [],
   "source": [
    "%reload_ext autoreload\n",
    "%autoreload 2\n",
    "%matplotlib inline"
   ]
  },
  {
   "cell_type": "code",
   "execution_count": 101,
   "metadata": {},
   "outputs": [],
   "source": [
    "from fastai.imports import *\n",
    "from fastai.transforms import *\n",
    "from fastai.conv_learner import *\n",
    "from fastai.model import *\n",
    "from fastai.dataset import *\n",
    "from fastai.sgdr import *\n",
    "from fastai.plots import *"
   ]
  },
  {
   "cell_type": "code",
   "execution_count": 102,
   "metadata": {},
   "outputs": [],
   "source": [
    "sz=224\n",
    "PATH ='Kaggle/dog-breed-identification/'"
   ]
  },
  {
   "cell_type": "code",
   "execution_count": 103,
   "metadata": {},
   "outputs": [
    {
     "data": {
      "text/plain": [
       "True"
      ]
     },
     "execution_count": 103,
     "metadata": {},
     "output_type": "execute_result"
    }
   ],
   "source": [
    "torch.cuda.is_available()"
   ]
  },
  {
   "cell_type": "code",
   "execution_count": 104,
   "metadata": {},
   "outputs": [
    {
     "data": {
      "text/plain": [
       "True"
      ]
     },
     "execution_count": 104,
     "metadata": {},
     "output_type": "execute_result"
    }
   ],
   "source": [
    "torch.backends.cudnn.enabled"
   ]
  },
  {
   "cell_type": "code",
   "execution_count": 105,
   "metadata": {},
   "outputs": [],
   "source": [
    "arch=resnet34\n",
    "csv_path=f'{PATH}/labels.csv'\n",
    "n = len(list(open(csv_path)))\n",
    "n=n-1\n",
    "val_idxs = get_cv_idxs(n)"
   ]
  },
  {
   "cell_type": "code",
   "execution_count": 106,
   "metadata": {},
   "outputs": [],
   "source": [
    "train_path = 'train/'\n",
    "test_path = 'test/'"
   ]
  },
  {
   "cell_type": "code",
   "execution_count": 107,
   "metadata": {},
   "outputs": [],
   "source": [
    "data = ImageClassifierData.from_csv(PATH, train_path, csv_path, 64, tfms_from_model(arch, sz), val_idxs, '.jpg', test_path)"
   ]
  },
  {
   "cell_type": "code",
   "execution_count": 108,
   "metadata": {},
   "outputs": [],
   "source": [
    "conv = ConvLearner.pretrained(arch, data, precompute=True)"
   ]
  },
  {
   "cell_type": "markdown",
   "metadata": {},
   "source": [
    "## Everything below has been commented because it was used for purposes of understanding the code"
   ]
  },
  {
   "cell_type": "code",
   "execution_count": 109,
   "metadata": {
    "scrolled": true
   },
   "outputs": [],
   "source": [
    "#conv.fit(0.01, 5)"
   ]
  },
  {
   "cell_type": "code",
   "execution_count": 110,
   "metadata": {},
   "outputs": [],
   "source": [
    "#val_pred = conv.predict()\n",
    "#val_pred"
   ]
  },
  {
   "cell_type": "code",
   "execution_count": 111,
   "metadata": {},
   "outputs": [],
   "source": [
    "#final_preds = np.exp(val_pred)\n",
    "#final_preds"
   ]
  },
  {
   "cell_type": "code",
   "execution_count": 112,
   "metadata": {},
   "outputs": [
    {
     "data": {
      "application/vnd.jupyter.widget-view+json": {
       "model_id": "7410ccfa15754b78b9795be560fa2147",
       "version_major": 2,
       "version_minor": 0
      },
      "text/plain": [
       "HBox(children=(IntProgress(value=0, description='Epoch', max=1), HTML(value='')))"
      ]
     },
     "metadata": {},
     "output_type": "display_data"
    },
    {
     "name": "stdout",
     "output_type": "stream",
     "text": [
      " 94%|█████████▍| 120/128 [00:01<00:00, 110.04it/s, loss=26.5]\n",
      "                                                             \r"
     ]
    }
   ],
   "source": [
    "learn_rate = conv.lr_find()"
   ]
  },
  {
   "cell_type": "code",
   "execution_count": 113,
   "metadata": {},
   "outputs": [],
   "source": [
    "#conv.sched.plot_lr() # plots learning rate!"
   ]
  },
  {
   "cell_type": "code",
   "execution_count": 114,
   "metadata": {},
   "outputs": [],
   "source": [
    "#conv.sched.plot_loss()"
   ]
  },
  {
   "cell_type": "code",
   "execution_count": 115,
   "metadata": {},
   "outputs": [
    {
     "data": {
      "image/png": "[encoded data removed]",
      "text/plain": [
       "<Figure size 432x288 with 1 Axes>"
      ]
     },
     "metadata": {},
     "output_type": "display_data"
    }
   ],
   "source": [
    "conv.sched.plot()"
   ]
  },
  {
   "cell_type": "code",
   "execution_count": 116,
   "metadata": {},
   "outputs": [
    {
     "data": {
      "application/vnd.jupyter.widget-view+json": {
       "model_id": "e8f1c534796c4aac950d676ef4a2f01c",
       "version_major": 2,
       "version_minor": 0
      },
      "text/plain": [
       "HBox(children=(IntProgress(value=0, description='Epoch', max=15), HTML(value='')))"
      ]
     },
     "metadata": {},
     "output_type": "display_data"
    },
    {
     "name": "stdout",
     "output_type": "stream",
     "text": [
      "epoch      trn_loss   val_loss   accuracy                    \n",
      "    0      1.244755   0.739716   0.776908  \n",
      "    1      0.764164   0.611164   0.819472                    \n",
      "    2      0.606776   0.606132   0.818982                     \n",
      "    3      0.511456   0.59485    0.821429                     \n",
      "    4      0.426257   0.615357   0.828767                    \n",
      "    5      0.368485   0.650016   0.818982                     \n",
      "    6      0.330403   0.653705   0.825832                    \n",
      "    7      0.310095   0.657238   0.822407                     \n",
      "    8      0.285746   0.65881    0.821429                    \n",
      "    9      0.263242   0.677153   0.826321                    \n",
      "    10     0.242972   0.678513   0.821429                     \n",
      "    11     0.236762   0.716207   0.829256                     \n",
      "    12     0.22091    0.773343   0.819961                     \n",
      "    13     0.19845    0.744998   0.823875                    \n",
      "    14     0.188454   0.768968   0.828767                     \n",
      "\n"
     ]
    },
    {
     "data": {
      "text/plain": [
       "[0.7689677385318069, 0.8287671238708869]"
      ]
     },
     "execution_count": 116,
     "metadata": {},
     "output_type": "execute_result"
    }
   ],
   "source": [
    "conv.fit(0.1, 15)"
   ]
  },
  {
   "cell_type": "code",
   "execution_count": 117,
   "metadata": {},
   "outputs": [],
   "source": [
    "#saving the last layer, which is the only unfrozen layer up until this point\n",
    "conv.save('breed_last')\n",
    "conv.load('breed_last')"
   ]
  },
  {
   "cell_type": "code",
   "execution_count": 118,
   "metadata": {},
   "outputs": [],
   "source": [
    "conv.unfreeze()"
   ]
  },
  {
   "cell_type": "code",
   "execution_count": null,
   "metadata": {},
   "outputs": [
    {
     "data": {
      "application/vnd.jupyter.widget-view+json": {
       "model_id": "307a19bd259f4fb9b9afb7ed3412c1d0",
       "version_major": 2,
       "version_minor": 0
      },
      "text/plain": [
       "HBox(children=(IntProgress(value=0, description='Epoch', max=15), HTML(value='')))"
      ]
     },
     "metadata": {},
     "output_type": "display_data"
    },
    {
     "name": "stdout",
     "output_type": "stream",
     "text": [
      "epoch      trn_loss   val_loss   accuracy                    \n",
      "    0      0.266081   0.750893   0.831213  \n",
      "    1      0.289157   0.732195   0.828278                    \n",
      "    2      0.268653   0.730488   0.832192                    \n",
      "    3      0.257396   0.718758   0.829746                    \n",
      "    4      0.246243   0.709416   0.832192                    \n",
      "    5      0.24355    0.702735   0.83317                     \n",
      "    6      0.259008   0.703561   0.834638                    \n",
      "    7      0.240842   0.695825   0.831703                    \n",
      "    8      0.244703   0.698218   0.834638                    \n",
      "    9      0.23424    0.689508   0.836106                    \n",
      "    10     0.224218   0.687339   0.836106                    \n",
      "    11     0.222915   0.696236   0.834638                    \n",
      "    12     0.223626   0.686351   0.834638                    \n",
      "    13     0.234492   0.68843    0.835127                    \n",
      " 82%|████████▏ | 105/128 [00:20<00:04,  5.10it/s, loss=0.234]"
     ]
    }
   ],
   "source": [
    "conv.fit([0.1, 0.01, 0.001], 15)"
   ]
  },
  {
   "cell_type": "code",
   "execution_count": null,
   "metadata": {},
   "outputs": [],
   "source": []
  }
 ],
 "metadata": {
  "kernelspec": {
   "display_name": "Python 3",
   "language": "python",
   "name": "python3"
  },
  "language_info": {
   "codemirror_mode": {
    "name": "ipython",
    "version": 3
   },
   "file_extension": ".py",
   "mimetype": "text/x-python",
   "name": "python",
   "nbconvert_exporter": "python",
   "pygments_lexer": "ipython3",
   "version": "3.6.5"
  }
 },
 "nbformat": 4,
 "nbformat_minor": 2
}
